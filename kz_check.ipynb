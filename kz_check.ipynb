{
 "cells": [
  {
   "cell_type": "code",
   "execution_count": 1,
   "metadata": {},
   "outputs": [],
   "source": [
    "# импортируем нужные библиотеки \n",
    "\n",
    "from sqlalchemy import create_engine\n",
    "import pandas as pd\n",
    "from locale import normalize"
   ]
  },
  {
   "cell_type": "code",
   "execution_count": 5,
   "metadata": {},
   "outputs": [],
   "source": [
    "# функция берет данные из SQL\n",
    "\n",
    "def sql_pull(sql, cred):\n",
    "    ''' \n",
    "        Sql data grabber from samo / anaplan server \n",
    "    '''\n",
    "\n",
    "    if cred == 'Anaplan':\n",
    "        server = 'pvm-bi-sql-01'\n",
    "        database = 'TUIOlap'\n",
    "\n",
    "    else:\n",
    "        server = 'pck-sam-sql-04'\n",
    "        database = 'TUI'\n",
    "\n",
    "    driver = 'ODBC Driver 17 for SQL Server'\n",
    "    \n",
    "    db_con = f'mssql://{server}/{database}?driver={driver}'\n",
    "    engine = create_engine(db_con)\n",
    "    con = engine.connect()\n",
    "\n",
    "    data = pd.read_sql_query(sql, con)\n",
    "\n",
    "    con.close()\n",
    "    engine.dispose()\n",
    "\n",
    "    return data"
   ]
  },
  {
   "cell_type": "code",
   "execution_count": 6,
   "metadata": {},
   "outputs": [],
   "source": [
    "# Забираем данные из САМО SQL, предварительно нашли номера ревизий за 2 дня по схожим параметрам (рынок КЗ, один автор, направление Таиланд)\n",
    "\n",
    "thai_kz =   '''\n",
    "            SELECT \n",
    "                revision 'rev_number',\n",
    "                tour 'package',\n",
    "                townfrom 'departure',\n",
    "                state 'state',\n",
    "                datebeg 'check_in',\n",
    "                nights 'duration',\n",
    "                rev_value_adl 'rev_adl',\n",
    "                rev_value_chd 'rev_chd',\n",
    "                CAST(activedate AS DATE) 'activation'\n",
    "\n",
    "            FROM\n",
    "                    rev_detail\n",
    "\n",
    "            WHERE\n",
    "                    revision IN (1271763,1271764,1271765,1271766,1271767,1272772,1272773,1273110,1273249,1273250,1274686,\n",
    "                    1274687,1274749,1274761,1276173,1276397,1276535,1276548,1276577,1276595,1276645,1276660)           \n",
    "            '''"
   ]
  },
  {
   "cell_type": "code",
   "execution_count": 7,
   "metadata": {},
   "outputs": [
    {
     "data": {
      "text/plain": [
       "1    0.767025\n",
       "0    0.232975\n",
       "Name: false_change, dtype: float64"
      ]
     },
     "execution_count": 7,
     "metadata": {},
     "output_type": "execute_result"
    }
   ],
   "source": [
    "# Забираем данные\n",
    "thai_kz = sql_pull(thai_kz, 'Samo')\n",
    "\n",
    "# data cleaning\n",
    "thai_kz.activation = pd.to_datetime(thai_kz.activation)\n",
    "\n",
    "# создаем 2 датафрейма отфильровав по датам, будем сравнивать ревизии за 2 дня\n",
    "first = thai_kz[thai_kz.activation == '2022-08-11']\n",
    "second = thai_kz[thai_kz.activation == '2022-08-12']\n",
    "\n",
    "# мерджим 2 датафрейма по основным параметрам (пакет, город отправления, страна, дата заезда, продолжительность, гостиница в ревизиях указанна = ВСЕ)\n",
    "merged_kz = pd.merge(left = first, right = second, how = 'inner', suffixes = ('_first','_second'), on = ['package', 'departure', 'state', 'check_in', 'duration'])\n",
    "\n",
    "# смотрим на шаг ревизии (были ли изменения между 2 днями)\n",
    "merged_kz['rev_step_adl'] = merged_kz.rev_adl_second - merged_kz.rev_adl_first\n",
    "\n",
    "# убираем ненужные колонки\n",
    "merged_kz = merged_kz[['rev_number_first', 'rev_number_second', 'rev_chd_second', 'package', 'departure', 'state', 'check_in',\n",
    "       'duration', 'rev_adl_first', 'rev_adl_second', 'rev_step_adl']]\n",
    "\n",
    "# создаем колонку для удобства фильтрации по признаку шага ревизии (0 - не было изменений в ревизии, 1 - были изменения в ревизи)\n",
    "merged_kz['false_change'] = 0\n",
    "merged_kz.loc[merged_kz.rev_step_adl == 0, 'false_change'] = 1\n",
    "\n",
    "# результат в %\n",
    "merged_kz.false_change.value_counts(normalize = True)"
   ]
  }
 ],
 "metadata": {
  "kernelspec": {
   "display_name": "Python 3.7.6",
   "language": "python",
   "name": "python3"
  },
  "language_info": {
   "codemirror_mode": {
    "name": "ipython",
    "version": 3
   },
   "file_extension": ".py",
   "mimetype": "text/x-python",
   "name": "python",
   "nbconvert_exporter": "python",
   "pygments_lexer": "ipython3",
   "version": "3.7.6"
  },
  "orig_nbformat": 4,
  "vscode": {
   "interpreter": {
    "hash": "ad743c03e499c25dbdd670289d7bc2d22e5785159b6bc03ee2cd7437da5b0ce1"
   }
  }
 },
 "nbformat": 4,
 "nbformat_minor": 2
}
